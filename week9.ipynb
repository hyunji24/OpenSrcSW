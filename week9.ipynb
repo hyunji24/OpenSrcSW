{
 "cells": [
  {
   "cell_type": "code",
   "execution_count": 3,
   "id": "0d54b7a4",
   "metadata": {},
   "outputs": [
    {
     "name": "stdout",
     "output_type": "stream",
     "text": [
      "2\n",
      "25\n"
     ]
    }
   ],
   "source": [
    "x=int(input())\n",
    "y=3*x**2+5*x+3\n",
    "print(y)\n",
    "\n",
    "    "
   ]
  },
  {
   "cell_type": "code",
   "execution_count": 5,
   "id": "9a245b91",
   "metadata": {},
   "outputs": [
    {
     "name": "stdout",
     "output_type": "stream",
     "text": [
      "3\n",
      "원의 둘레: 18.84\n",
      "원의 넓이: 28.26\n"
     ]
    }
   ],
   "source": [
    "radius=float(input())\n",
    "pi=3.14\n",
    "print('원의 둘레:',2*pi*radius)\n",
    "print('원의 넓이:',pi*radius**2)"
   ]
  },
  {
   "cell_type": "code",
   "execution_count": null,
   "id": "8d9dfe54",
   "metadata": {},
   "outputs": [],
   "source": []
  }
 ],
 "metadata": {
  "kernelspec": {
   "display_name": "Python 3",
   "language": "python",
   "name": "python3"
  },
  "language_info": {
   "codemirror_mode": {
    "name": "ipython",
    "version": 3
   },
   "file_extension": ".py",
   "mimetype": "text/x-python",
   "name": "python",
   "nbconvert_exporter": "python",
   "pygments_lexer": "ipython3",
   "version": "3.8.1"
  }
 },
 "nbformat": 4,
 "nbformat_minor": 5
}
