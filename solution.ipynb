{
 "cells": [
  {
   "cell_type": "code",
   "execution_count": 39,
   "id": "15662067",
   "metadata": {},
   "outputs": [
    {
     "name": "stdout",
     "output_type": "stream",
     "text": [
      "(1,2)\n",
      "(3,4)\n"
     ]
    }
   ],
   "source": [
    "import import_ipynb\n",
    "\n",
    "class Point:\n",
    "    num_a=0\n",
    "    num_b=0\n",
    "    def __init__(self,a,b):\n",
    "        self.num_a=a\n",
    "        self.num_b=b\n",
    "    def __add__(self,other):\n",
    "        self.num_a=self.num_a+other.num_a\n",
    "        self.num_b=self.num_b+other.num_b\n",
    "    def show(self):\n",
    "        print(\"({0:d},{1:d})\".format(self.num_a,self.num_b))\n",
    "    \n",
    "        \n",
    "        \n",
    "\n",
    "a=Point(1,2)\n",
    "a.show()\n",
    "\n",
    "b=Point(3,4)\n",
    "b.show()\n",
    "\n",
    "a=a+b\n",
    "a.show()"
   ]
  },
  {
   "cell_type": "code",
   "execution_count": null,
   "id": "5b64c29d",
   "metadata": {},
   "outputs": [],
   "source": [
    "import csv\n",
    "import numpy as np\n",
    "import pandas as pd\n",
    "import math\n",
    "\n",
    "f=open('seoul.csv')\n",
    "data=csv.reader(f)\n",
    "next(data)\n",
    "\n",
    "for row in data:\n",
    "    \n",
    "    "
   ]
  },
  {
   "cell_type": "code",
   "execution_count": null,
   "id": "7b1ee08f",
   "metadata": {},
   "outputs": [],
   "source": []
  }
 ],
 "metadata": {
  "kernelspec": {
   "display_name": "Python 3",
   "language": "python",
   "name": "python3"
  },
  "language_info": {
   "codemirror_mode": {
    "name": "ipython",
    "version": 3
   },
   "file_extension": ".py",
   "mimetype": "text/x-python",
   "name": "python",
   "nbconvert_exporter": "python",
   "pygments_lexer": "ipython3",
   "version": "3.8.1"
  }
 },
 "nbformat": 4,
 "nbformat_minor": 5
}
