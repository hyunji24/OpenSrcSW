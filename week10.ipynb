{
 "cells": [
  {
   "cell_type": "code",
   "execution_count": 40,
   "id": "84416843",
   "metadata": {
    "scrolled": true
   },
   "outputs": [
    {
     "name": "stdout",
     "output_type": "stream",
     "text": [
      "Numbers?10 456 87 78\n",
      "Max = 456\n"
     ]
    }
   ],
   "source": [
    "numbers=input(\"Numbers?\")\n",
    "num=numbers.split()\n",
    "numlist=[int(x) for x in num]\n",
    "print(\"Max = %d\"% max(numlist))\n",
    "    "
   ]
  },
  {
   "cell_type": "code",
   "execution_count": 41,
   "id": "96b249df",
   "metadata": {},
   "outputs": [
    {
     "name": "stdout",
     "output_type": "stream",
     "text": [
      "Input string: abc def\n",
      "1:암호화 , 2:복호화  =>1\n",
      "efg bcd \n"
     ]
    }
   ],
   "source": [
    "str=input(\"Input string: \")\n",
    "slist=str.split()\n",
    "slist.reverse()\n",
    "nlist=[]\n",
    "\n",
    "num=int(input(\"1:암호화 , 2:복호화  =>\"))\n",
    "if(num==1):\n",
    "    for word in slist:\n",
    "        pw=\"\"\n",
    "        for letter in word:\n",
    "            code=ord(letter)+1\n",
    "            nletter=chr(code)\n",
    "            pw+=nletter\n",
    "        nlist.append(pw)\n",
    "\n",
    "    passwd=\"\"\n",
    "    for word in nlist:\n",
    "        passwd+=word+\" \"\n",
    "    passwd.rstrip()\n",
    "    print(passwd)\n",
    "    \n",
    "if(num==2):\n",
    "    for word in slist:\n",
    "        pw=\"\"\n",
    "        for letter in word:\n",
    "            code=ord(letter)-1\n",
    "            nletter=chr(code)\n",
    "            pw+=nletter\n",
    "        nlist.append(pw)\n",
    "        \n",
    "        passwd=\"\"\n",
    "    for word in nlist:\n",
    "        passwd+=word+\" \"\n",
    "    passwd.rstrip()\n",
    "    print(passwd)\n",
    "        \n",
    "    \n",
    "\n"
   ]
  },
  {
   "cell_type": "code",
   "execution_count": 42,
   "id": "7e13b2bf",
   "metadata": {
    "scrolled": true
   },
   "outputs": [
    {
     "name": "stdout",
     "output_type": "stream",
     "text": [
      "이름: aaa\n",
      "전화번호: 123\n",
      "이름: bbb\n",
      "전화번호: 234\n",
      "이름: ccc\n",
      "전화번호: 345\n",
      "이름: ddd\n",
      "전화번호: 456\n",
      "이름: eee\n",
      "전화번호: 678\n",
      "이름: fff\n",
      "전화번호: 789\n",
      "이름: ggg\n",
      "전화번호: 890\n",
      "이름: hhh\n",
      "전화번호: 010\n",
      "이름: iii\n",
      "전화번호: 011\n",
      "이름: jjj\n",
      "전화번호: 023\n",
      "1:name , 2:telnum  =>1\n",
      "Name?hhh\n",
      "010\n"
     ]
    }
   ],
   "source": [
    "dict={}\n",
    "\n",
    "def get_key(val):\n",
    "    for key, value in dict.items():\n",
    "         if val == value:\n",
    "             return key\n",
    "        \n",
    "\n",
    "for i in range(10):\n",
    "    name=input(\"이름: \")\n",
    "    tel=input(\"전화번호: \")\n",
    "    dict[name]=tel\n",
    "\n",
    "\n",
    "num=int(input(\"1:name , 2:telnum  =>\"))\n",
    "if(num==1):\n",
    "    name=input(\"Name?\")\n",
    "    print(dict.get(name))\n",
    "else:\n",
    "    tel=input(\"Telnum?\")\n",
    "    print(get_key(tel))"
   ]
  }
 ],
 "metadata": {
  "kernelspec": {
   "display_name": "Python 3",
   "language": "python",
   "name": "python3"
  },
  "language_info": {
   "codemirror_mode": {
    "name": "ipython",
    "version": 3
   },
   "file_extension": ".py",
   "mimetype": "text/x-python",
   "name": "python",
   "nbconvert_exporter": "python",
   "pygments_lexer": "ipython3",
   "version": "3.8.1"
  }
 },
 "nbformat": 4,
 "nbformat_minor": 5
}
